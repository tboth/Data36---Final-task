{
 "cells": [
  {
   "cell_type": "markdown",
   "id": "developmental-field",
   "metadata": {},
   "source": [
    "# DS36 - Final Task (solution)"
   ]
  },
  {
   "cell_type": "code",
   "execution_count": 3,
   "id": "monetary-breath",
   "metadata": {},
   "outputs": [],
   "source": [
    "import csv\n",
    "import numpy as np\n",
    "import pandas as pd\n",
    "import matplotlib.pyplot as plt"
   ]
  },
  {
   "cell_type": "markdown",
   "id": "intense-methodology",
   "metadata": {},
   "source": [
    "This is the soulution for the final task of the course Junior Data Scientist's First Month.\n",
    "\n",
    "### Data\n",
    "The data belong to a fictional travelling blog owned by Dylan. It represents the traffic of the blog for the last 3 months as a log file. There are 4 types of rows, representing 4 types of actions.\n",
    "Snippets for each type of action:   \n",
    "\n",
    "**1. newcommers / people first time visiting the site**  \n",
    "\n",
    "2018-01-01 00:23:16;read;country_2;2458151289;Reddit;Asia  \n",
    "*Explanation: timestamp of the visit, activity, which country is the visitor from (there are 8 countries, from country1 to country8), unique ID, where he found the blog (Reddit / SEO/ Adwords), which region is he/she interested in*\n",
    "\n",
    "**2. recurring readers, but they are not subscribed**\n",
    "\n",
    "2018-01-01 07:18:28;read;country_4;2458151771;Europe   \n",
    "*Explanation: timestamp of the visit, activity, unique ID, which region is he/she interested in*\n",
    "\n",
    "**3. subscribed readers**  \n",
    "2018-01-01 08:02:08;subscribe;2458151851  \n",
    "*Explanation: timestamp, activity, unique ID* \n",
    "\n",
    "**4. people who bought either an e-book for 8USD or an online course for 80USD**  \n",
    "2018-01-03 01:33:30;buy;2458151481;80  \n",
    "*Explanation: timestamp, activity, unique ID, price (it can be either 8 or 80)*  \n",
    "\n",
    "We can assume that the same unique ID is used for the same person (he/she acquires the ID at the first visit on the blog and he/she has the same ID at subscribing and purchasing from the blog) and that the person who had bought something has also went through the prevoius 3 steps.\n",
    "\n",
    "Dylan's budget for advertising is known aswell, he currently spends 250USD on Reddit, 500USD on AdWords and 250USD on SEO per month\n",
    "\n",
    "### Task\n",
    "The task was to answer 3 questions based on the provided data:  \n",
    "\n",
    "**1. In which country should he prioritise his effort and why?**  \n",
    "**2. Any other advice to Dilan on how to be smart with his investments based on the data from the last 3 months?**  \n",
    "**3. Can you see any more interesting information (beyond the above 2 questions) in the data from which Dilan could profit?**"
   ]
  },
  {
   "cell_type": "markdown",
   "id": "double-geology",
   "metadata": {},
   "source": [
    "The original .csv file was parsed into 4 new seperate files using bash with the following commands:\n",
    "\n",
    "grep \"read\" dilans_data.csv | grep -E \"(Reddit|SEO|AdWords)\" > new_readers.csv  \n",
    "grep \"read\" dilans_data.csv | grep -v -E \"(Reddit|SEO|AdWords)\" > recurring.csv  \n",
    "grep \"subscribe\" dilans_data.csv > subscribe_data.csv  \n",
    "grep \"buy\" dilans_data.csv > buy_data.csv\n",
    "\n",
    "4 DataFrames will be created for the analysis, for the 4 types of actions:    \n",
    "**new** - newcommers\n",
    "**rec** - recurring readers  \n",
    "**sub** - subscribers   \n",
    "**buy** - customers / people who have bought something    "
   ]
  },
  {
   "cell_type": "markdown",
   "id": "informational-memphis",
   "metadata": {},
   "source": [
    "## Exploratory data analysis"
   ]
  },
  {
   "cell_type": "code",
   "execution_count": 4,
   "id": "caring-renaissance",
   "metadata": {},
   "outputs": [],
   "source": [
    "#creating dataframe for the new visitors\n",
    "new = pd.read_csv(\"new_readers.csv\", sep=';')\n",
    "new.drop('read',1,inplace=True)\n",
    "new.columns = [\"Time\",\"Country\",\"ID\",\"Source\",\"Region\"]"
   ]
  },
  {
   "cell_type": "code",
   "execution_count": 5,
   "id": "optical-costa",
   "metadata": {},
   "outputs": [
    {
     "data": {
      "text/plain": [
       "Text(0, 0.5, 'values')"
      ]
     },
     "execution_count": 5,
     "metadata": {},
     "output_type": "execute_result"
    },
    {
     "data": {
      "image/png": "[encoded data removed]",
      "text/plain": [
       "<Figure size 432x432 with 1 Axes>"
      ]
     },
     "metadata": {
      "needs_background": "light"
     },
     "output_type": "display_data"
    }
   ],
   "source": [
    "#plotting the number of new visitors by country as a bar chart\n",
    "by_country = new.groupby(\"Country\").count().sort_values([\"Time\"], ascending=False)\n",
    "by_country.to_csv('new_users_by_country.csv')\n",
    "by_country.plot(y='Time',kind='bar', figsize=[6,6])\n",
    "plt.title('New readers by country')\n",
    "plt.xlabel('countries')\n",
    "plt.ylabel('values')"
   ]
  },
  {
   "cell_type": "markdown",
   "id": "weekly-reverse",
   "metadata": {},
   "source": [
    "The most new visitors are from country_7 and country_2"
   ]
  },
  {
   "cell_type": "code",
   "execution_count": 6,
   "id": "turned-packaging",
   "metadata": {},
   "outputs": [
    {
     "data": {
      "text/html": [
       "<div>\n",
       "<style scoped>\n",
       "    .dataframe tbody tr th:only-of-type {\n",
       "        vertical-align: middle;\n",
       "    }\n",
       "\n",
       "    .dataframe tbody tr th {\n",
       "        vertical-align: top;\n",
       "    }\n",
       "\n",
       "    .dataframe thead th {\n",
       "        text-align: right;\n",
       "    }\n",
       "</style>\n",
       "<table border=\"1\" class=\"dataframe\">\n",
       "  <thead>\n",
       "    <tr style=\"text-align: right;\">\n",
       "      <th></th>\n",
       "      <th>Time</th>\n",
       "      <th>Country</th>\n",
       "      <th>ID</th>\n",
       "      <th>Source</th>\n",
       "    </tr>\n",
       "    <tr>\n",
       "      <th>Region</th>\n",
       "      <th></th>\n",
       "      <th></th>\n",
       "      <th></th>\n",
       "      <th></th>\n",
       "    </tr>\n",
       "  </thead>\n",
       "  <tbody>\n",
       "    <tr>\n",
       "      <th>Asia</th>\n",
       "      <td>76092</td>\n",
       "      <td>76092</td>\n",
       "      <td>76092</td>\n",
       "      <td>76092</td>\n",
       "    </tr>\n",
       "    <tr>\n",
       "      <th>Europe</th>\n",
       "      <td>39561</td>\n",
       "      <td>39561</td>\n",
       "      <td>39561</td>\n",
       "      <td>39561</td>\n",
       "    </tr>\n",
       "    <tr>\n",
       "      <th>North America</th>\n",
       "      <td>37566</td>\n",
       "      <td>37566</td>\n",
       "      <td>37566</td>\n",
       "      <td>37566</td>\n",
       "    </tr>\n",
       "    <tr>\n",
       "      <th>South America</th>\n",
       "      <td>25095</td>\n",
       "      <td>25095</td>\n",
       "      <td>25095</td>\n",
       "      <td>25095</td>\n",
       "    </tr>\n",
       "    <tr>\n",
       "      <th>Africa</th>\n",
       "      <td>15913</td>\n",
       "      <td>15913</td>\n",
       "      <td>15913</td>\n",
       "      <td>15913</td>\n",
       "    </tr>\n",
       "    <tr>\n",
       "      <th>Australia</th>\n",
       "      <td>15795</td>\n",
       "      <td>15795</td>\n",
       "      <td>15795</td>\n",
       "      <td>15795</td>\n",
       "    </tr>\n",
       "  </tbody>\n",
       "</table>\n",
       "</div>"
      ],
      "text/plain": [
       "                Time  Country     ID  Source\n",
       "Region                                      \n",
       "Asia           76092    76092  76092   76092\n",
       "Europe         39561    39561  39561   39561\n",
       "North America  37566    37566  37566   37566\n",
       "South America  25095    25095  25095   25095\n",
       "Africa         15913    15913  15913   15913\n",
       "Australia      15795    15795  15795   15795"
      ]
     },
     "execution_count": 6,
     "metadata": {},
     "output_type": "execute_result"
    }
   ],
   "source": [
    "#checking which topis are new readers the most interested in\n",
    "new.groupby(\"Region\").count().sort_values([\"Time\"], ascending=False)"
   ]
  },
  {
   "cell_type": "markdown",
   "id": "still-plain",
   "metadata": {},
   "source": [
    "The most newcommers are interested in Asia, Europe and North America "
   ]
  },
  {
   "cell_type": "code",
   "execution_count": 7,
   "id": "higher-engagement",
   "metadata": {},
   "outputs": [],
   "source": [
    "#creating a DataFrame for the recurring readers\n",
    "rec = pd.read_csv(\"recurring.csv\", sep=';')\n",
    "rec.drop('read',1,inplace=True)\n",
    "rec.columns = [\"Time\",\"Country\",\"ID\",\"Region\"]"
   ]
  },
  {
   "cell_type": "code",
   "execution_count": 8,
   "id": "speaking-excerpt",
   "metadata": {},
   "outputs": [
    {
     "data": {
      "text/plain": [
       "Text(0, 0.5, 'values')"
      ]
     },
     "execution_count": 8,
     "metadata": {},
     "output_type": "execute_result"
    },
    {
     "data": {
      "image/png": "[encoded data removed]",
      "text/plain": [
       "<Figure size 432x432 with 1 Axes>"
      ]
     },
     "metadata": {
      "needs_background": "light"
     },
     "output_type": "display_data"
    }
   ],
   "source": [
    "#plotting the number of new visitors by country as a bar chart\n",
    "by_country = rec.groupby(\"Country\").count().sort_values([\"Time\"], ascending=False)\n",
    "by_country.to_csv(\"recurring_by_country.csv\")\n",
    "by_country.plot(y='Time',kind='bar', figsize=[6,6])\n",
    "plt.title('Returning readers by country')\n",
    "plt.xlabel('countries')\n",
    "plt.ylabel('values')"
   ]
  },
  {
   "cell_type": "markdown",
   "id": "fatty-cookie",
   "metadata": {},
   "source": [
    "The most recurring visitors are from country_5 and cuntry_3. In the top three there is country_2 aswell. These countries had the most newcommers too, so let's check them in more detail"
   ]
  },
  {
   "cell_type": "code",
   "execution_count": 9,
   "id": "ordinary-cooler",
   "metadata": {},
   "outputs": [
    {
     "data": {
      "text/html": [
       "<div>\n",
       "<style scoped>\n",
       "    .dataframe tbody tr th:only-of-type {\n",
       "        vertical-align: middle;\n",
       "    }\n",
       "\n",
       "    .dataframe tbody tr th {\n",
       "        vertical-align: top;\n",
       "    }\n",
       "\n",
       "    .dataframe thead th {\n",
       "        text-align: right;\n",
       "    }\n",
       "</style>\n",
       "<table border=\"1\" class=\"dataframe\">\n",
       "  <thead>\n",
       "    <tr style=\"text-align: right;\">\n",
       "      <th></th>\n",
       "      <th>Time</th>\n",
       "      <th>Country</th>\n",
       "      <th>ID</th>\n",
       "    </tr>\n",
       "    <tr>\n",
       "      <th>Region</th>\n",
       "      <th></th>\n",
       "      <th></th>\n",
       "      <th></th>\n",
       "    </tr>\n",
       "  </thead>\n",
       "  <tbody>\n",
       "    <tr>\n",
       "      <th>Asia</th>\n",
       "      <td>118833</td>\n",
       "      <td>118833</td>\n",
       "      <td>118833</td>\n",
       "    </tr>\n",
       "    <tr>\n",
       "      <th>North America</th>\n",
       "      <td>92766</td>\n",
       "      <td>92766</td>\n",
       "      <td>92766</td>\n",
       "    </tr>\n",
       "    <tr>\n",
       "      <th>Europe</th>\n",
       "      <td>54136</td>\n",
       "      <td>54136</td>\n",
       "      <td>54136</td>\n",
       "    </tr>\n",
       "    <tr>\n",
       "      <th>South America</th>\n",
       "      <td>51706</td>\n",
       "      <td>51706</td>\n",
       "      <td>51706</td>\n",
       "    </tr>\n",
       "    <tr>\n",
       "      <th>Africa</th>\n",
       "      <td>27481</td>\n",
       "      <td>27481</td>\n",
       "      <td>27481</td>\n",
       "    </tr>\n",
       "    <tr>\n",
       "      <th>Australia</th>\n",
       "      <td>26931</td>\n",
       "      <td>26931</td>\n",
       "      <td>26931</td>\n",
       "    </tr>\n",
       "  </tbody>\n",
       "</table>\n",
       "</div>"
      ],
      "text/plain": [
       "                 Time  Country      ID\n",
       "Region                                \n",
       "Asia           118833   118833  118833\n",
       "North America   92766    92766   92766\n",
       "Europe          54136    54136   54136\n",
       "South America   51706    51706   51706\n",
       "Africa          27481    27481   27481\n",
       "Australia       26931    26931   26931"
      ]
     },
     "execution_count": 9,
     "metadata": {},
     "output_type": "execute_result"
    }
   ],
   "source": [
    "#checking which topis are recurring readers the most interested in\n",
    "rec.groupby(\"Region\").count().sort_values([\"Time\"], ascending=False)"
   ]
  },
  {
   "cell_type": "markdown",
   "id": "confirmed-casino",
   "metadata": {},
   "source": [
    "The top 3 topics are the same as among newcommers, but the order of them is different. (North America is the second, but it was the third in order at newcommers)"
   ]
  },
  {
   "cell_type": "code",
   "execution_count": 10,
   "id": "mexican-universe",
   "metadata": {},
   "outputs": [],
   "source": [
    "#Creating a DataFrame for the subscribed users\n",
    "sub = pd.read_csv(\"subscribe_data.csv\", sep=';')\n",
    "sub.drop('subscribe',1,inplace=True)\n",
    "sub.columns = [\"Time\",\"ID\"]"
   ]
  },
  {
   "cell_type": "code",
   "execution_count": 11,
   "id": "organized-defendant",
   "metadata": {},
   "outputs": [],
   "source": [
    "#Creating a DataFrame for the customers\n",
    "buy = pd.read_csv(\"buy_data.csv\", sep=';')\n",
    "buy.drop('buy',1,inplace=True)\n",
    "buy.columns = [\"Time\",\"ID\",\"Price\"]"
   ]
  },
  {
   "cell_type": "code",
   "execution_count": 12,
   "id": "annoying-harassment",
   "metadata": {},
   "outputs": [
    {
     "data": {
      "text/html": [
       "<div>\n",
       "<style scoped>\n",
       "    .dataframe tbody tr th:only-of-type {\n",
       "        vertical-align: middle;\n",
       "    }\n",
       "\n",
       "    .dataframe tbody tr th {\n",
       "        vertical-align: top;\n",
       "    }\n",
       "\n",
       "    .dataframe thead th {\n",
       "        text-align: right;\n",
       "    }\n",
       "</style>\n",
       "<table border=\"1\" class=\"dataframe\">\n",
       "  <thead>\n",
       "    <tr style=\"text-align: right;\">\n",
       "      <th></th>\n",
       "      <th>Time</th>\n",
       "      <th>ID</th>\n",
       "    </tr>\n",
       "    <tr>\n",
       "      <th>Price</th>\n",
       "      <th></th>\n",
       "      <th></th>\n",
       "    </tr>\n",
       "  </thead>\n",
       "  <tbody>\n",
       "    <tr>\n",
       "      <th>8</th>\n",
       "      <td>6639</td>\n",
       "      <td>6639</td>\n",
       "    </tr>\n",
       "    <tr>\n",
       "      <th>80</th>\n",
       "      <td>1767</td>\n",
       "      <td>1767</td>\n",
       "    </tr>\n",
       "  </tbody>\n",
       "</table>\n",
       "</div>"
      ],
      "text/plain": [
       "       Time    ID\n",
       "Price            \n",
       "8      6639  6639\n",
       "80     1767  1767"
      ]
     },
     "execution_count": 12,
     "metadata": {},
     "output_type": "execute_result"
    }
   ],
   "source": [
    "#Classifying the purchases\n",
    "buy.groupby(\"Price\").count()"
   ]
  },
  {
   "cell_type": "markdown",
   "id": "coral-hypothetical",
   "metadata": {},
   "source": [
    "3x more E-books were sold than online courses. The revenue from the E-books is 53112USD, the revenue from the online courses is 141360USD. Total revenue: 194472USD."
   ]
  },
  {
   "cell_type": "markdown",
   "id": "light-chancellor",
   "metadata": {},
   "source": [
    "## 1. In which country should he prioritise his effort and why?"
   ]
  },
  {
   "cell_type": "code",
   "execution_count": 13,
   "id": "traditional-connection",
   "metadata": {},
   "outputs": [
    {
     "data": {
      "text/html": [
       "<div>\n",
       "<style scoped>\n",
       "    .dataframe tbody tr th:only-of-type {\n",
       "        vertical-align: middle;\n",
       "    }\n",
       "\n",
       "    .dataframe tbody tr th {\n",
       "        vertical-align: top;\n",
       "    }\n",
       "\n",
       "    .dataframe thead th {\n",
       "        text-align: right;\n",
       "    }\n",
       "</style>\n",
       "<table border=\"1\" class=\"dataframe\">\n",
       "  <thead>\n",
       "    <tr style=\"text-align: right;\">\n",
       "      <th></th>\n",
       "      <th>Time_x</th>\n",
       "      <th>ID</th>\n",
       "      <th>Region_x</th>\n",
       "      <th>Time_y</th>\n",
       "      <th>Country_y</th>\n",
       "      <th>Source</th>\n",
       "      <th>Region_y</th>\n",
       "    </tr>\n",
       "    <tr>\n",
       "      <th>Country_x</th>\n",
       "      <th></th>\n",
       "      <th></th>\n",
       "      <th></th>\n",
       "      <th></th>\n",
       "      <th></th>\n",
       "      <th></th>\n",
       "      <th></th>\n",
       "    </tr>\n",
       "  </thead>\n",
       "  <tbody>\n",
       "    <tr>\n",
       "      <th>country_5</th>\n",
       "      <td>109382</td>\n",
       "      <td>109382</td>\n",
       "      <td>109382</td>\n",
       "      <td>109382</td>\n",
       "      <td>109382</td>\n",
       "      <td>109382</td>\n",
       "      <td>109382</td>\n",
       "    </tr>\n",
       "    <tr>\n",
       "      <th>country_7</th>\n",
       "      <td>80276</td>\n",
       "      <td>80276</td>\n",
       "      <td>80276</td>\n",
       "      <td>80276</td>\n",
       "      <td>80276</td>\n",
       "      <td>80276</td>\n",
       "      <td>80276</td>\n",
       "    </tr>\n",
       "    <tr>\n",
       "      <th>country_2</th>\n",
       "      <td>79401</td>\n",
       "      <td>79401</td>\n",
       "      <td>79401</td>\n",
       "      <td>79401</td>\n",
       "      <td>79401</td>\n",
       "      <td>79401</td>\n",
       "      <td>79401</td>\n",
       "    </tr>\n",
       "    <tr>\n",
       "      <th>country_4</th>\n",
       "      <td>58507</td>\n",
       "      <td>58507</td>\n",
       "      <td>58507</td>\n",
       "      <td>58507</td>\n",
       "      <td>58507</td>\n",
       "      <td>58507</td>\n",
       "      <td>58507</td>\n",
       "    </tr>\n",
       "    <tr>\n",
       "      <th>country_6</th>\n",
       "      <td>32596</td>\n",
       "      <td>32596</td>\n",
       "      <td>32596</td>\n",
       "      <td>32596</td>\n",
       "      <td>32596</td>\n",
       "      <td>32596</td>\n",
       "      <td>32596</td>\n",
       "    </tr>\n",
       "    <tr>\n",
       "      <th>country_3</th>\n",
       "      <td>6386</td>\n",
       "      <td>6386</td>\n",
       "      <td>6386</td>\n",
       "      <td>6386</td>\n",
       "      <td>6386</td>\n",
       "      <td>6386</td>\n",
       "      <td>6386</td>\n",
       "    </tr>\n",
       "    <tr>\n",
       "      <th>country_8</th>\n",
       "      <td>4150</td>\n",
       "      <td>4150</td>\n",
       "      <td>4150</td>\n",
       "      <td>4150</td>\n",
       "      <td>4150</td>\n",
       "      <td>4150</td>\n",
       "      <td>4150</td>\n",
       "    </tr>\n",
       "    <tr>\n",
       "      <th>country_1</th>\n",
       "      <td>1155</td>\n",
       "      <td>1155</td>\n",
       "      <td>1155</td>\n",
       "      <td>1155</td>\n",
       "      <td>1155</td>\n",
       "      <td>1155</td>\n",
       "      <td>1155</td>\n",
       "    </tr>\n",
       "  </tbody>\n",
       "</table>\n",
       "</div>"
      ],
      "text/plain": [
       "           Time_x      ID  Region_x  Time_y  Country_y  Source  Region_y\n",
       "Country_x                                                               \n",
       "country_5  109382  109382    109382  109382     109382  109382    109382\n",
       "country_7   80276   80276     80276   80276      80276   80276     80276\n",
       "country_2   79401   79401     79401   79401      79401   79401     79401\n",
       "country_4   58507   58507     58507   58507      58507   58507     58507\n",
       "country_6   32596   32596     32596   32596      32596   32596     32596\n",
       "country_3    6386    6386      6386    6386       6386    6386      6386\n",
       "country_8    4150    4150      4150    4150       4150    4150      4150\n",
       "country_1    1155    1155      1155    1155       1155    1155      1155"
      ]
     },
     "execution_count": 13,
     "metadata": {},
     "output_type": "execute_result"
    }
   ],
   "source": [
    "#counting the recurring readers by country\n",
    "pd.merge(rec, new, how=\"left\", on=\"ID\").groupby(\"Country_x\").count().sort_values([\"Time_x\"], ascending=False)"
   ]
  },
  {
   "cell_type": "code",
   "execution_count": 14,
   "id": "durable-journal",
   "metadata": {},
   "outputs": [
    {
     "data": {
      "text/plain": [
       "Text(0, 0.5, 'values')"
      ]
     },
     "execution_count": 14,
     "metadata": {},
     "output_type": "execute_result"
    },
    {
     "data": {
      "image/png": "[encoded data removed]",
      "text/plain": [
       "<Figure size 432x432 with 1 Axes>"
      ]
     },
     "metadata": {
      "needs_background": "light"
     },
     "output_type": "display_data"
    }
   ],
   "source": [
    "#Plotting the number of subscribers by country as a bar chart\n",
    "subscribers = pd.merge(sub, new, how=\"left\", on=\"ID\").groupby(\"Country\").count().sort_values([\"Time_x\"], ascending=False)\n",
    "subscribers.to_csv(\"subscribers_by_country.csv\")\n",
    "subscribers.plot(y='Time_x',kind='bar', figsize=[6,6])\n",
    "plt.title('Subscribers by country')\n",
    "plt.xlabel('countries')\n",
    "plt.ylabel('values')"
   ]
  },
  {
   "cell_type": "code",
   "execution_count": 15,
   "id": "confused-relevance",
   "metadata": {},
   "outputs": [
    {
     "data": {
      "text/plain": [
       "Text(0, 0.5, 'values')"
      ]
     },
     "execution_count": 15,
     "metadata": {},
     "output_type": "execute_result"
    },
    {
     "data": {
      "image/png": "[encoded data removed]",
      "text/plain": [
       "<Figure size 432x432 with 1 Axes>"
      ]
     },
     "metadata": {
      "needs_background": "light"
     },
     "output_type": "display_data"
    }
   ],
   "source": [
    "#Plotting the number of customers by country as a bar chart\n",
    "buyers = pd.merge(buy,new,how=\"left\",on=\"ID\").groupby(\"Country\").count().sort_values([\"Time_x\"], ascending=False)\n",
    "buyers.to_csv(\"buyers_by_country.csv\")\n",
    "buyers.plot(y='Time_x',kind='bar', figsize=[6,6])\n",
    "plt.title('Buyers by country')\n",
    "plt.xlabel('countries')\n",
    "plt.ylabel('values')"
   ]
  },
  {
   "cell_type": "code",
   "execution_count": 16,
   "id": "independent-winter",
   "metadata": {
    "scrolled": true
   },
   "outputs": [
    {
     "data": {
      "text/plain": [
       "Text(0, 0.5, 'total purchases')"
      ]
     },
     "execution_count": 16,
     "metadata": {},
     "output_type": "execute_result"
    },
    {
     "data": {
      "image/png": "[encoded data removed]",
      "text/plain": [
       "<Figure size 864x432 with 1 Axes>"
      ]
     },
     "metadata": {
      "needs_background": "light"
     },
     "output_type": "display_data"
    }
   ],
   "source": [
    "#cchecking the revenue from E-books and online courses for each country \n",
    "segments = pd.merge(buy,new,how=\"left\",on=\"ID\").groupby([\"Country\",\"Price\"]).count()\n",
    "segments.plot(y=\"ID\",kind='bar',figsize=[12,6])\n",
    "plt.title('Total purchases by country')\n",
    "plt.xlabel('countries, price')\n",
    "plt.ylabel('total purchases')"
   ]
  },
  {
   "cell_type": "markdown",
   "id": "statewide-render",
   "metadata": {},
   "source": [
    "### I think Dylan should focus on country_5, because the most new visitors, the most recurring readers and the most customers are from this country."
   ]
  },
  {
   "cell_type": "markdown",
   "id": "figured-undergraduate",
   "metadata": {},
   "source": [
    "## 2. Any other advice to Dilan on how to be smart with his investments based on the data from the last 3 months?"
   ]
  },
  {
   "cell_type": "code",
   "execution_count": 17,
   "id": "liable-exception",
   "metadata": {},
   "outputs": [
    {
     "data": {
      "text/plain": [
       "Text(0, 0.5, 'values')"
      ]
     },
     "execution_count": 17,
     "metadata": {},
     "output_type": "execute_result"
    },
    {
     "data": {
      "image/png": "[encoded data removed]",
      "text/plain": [
       "<Figure size 432x432 with 1 Axes>"
      ]
     },
     "metadata": {
      "needs_background": "light"
     },
     "output_type": "display_data"
    }
   ],
   "source": [
    "#counting the total number of clicks by source\n",
    "clicks = new.groupby(\"Source\").count().sort_values([\"Time\"], ascending=False)\n",
    "clicks.to_csv(\"total_clicks_by_source.csv\")\n",
    "clicks.plot(y='Time',kind='bar', figsize=[6,6])\n",
    "plt.title('Total clicks')\n",
    "plt.xlabel('countries')\n",
    "plt.ylabel('values')"
   ]
  },
  {
   "cell_type": "code",
   "execution_count": 18,
   "id": "sexual-karen",
   "metadata": {},
   "outputs": [
    {
     "data": {
      "text/plain": [
       "Text(0.5, 1.0, 'Budget')"
      ]
     },
     "execution_count": 18,
     "metadata": {},
     "output_type": "execute_result"
    },
    {
     "data": {
      "image/png": "[encoded data removed]",
      "text/plain": [
       "<Figure size 504x504 with 1 Axes>"
      ]
     },
     "metadata": {},
     "output_type": "display_data"
    }
   ],
   "source": [
    "#visualising Dylan's current spending on a pie chart\n",
    "budgets = [250,500,250]\n",
    "budget_series = pd.DataFrame({'Source': ['Reddit', 'AdWords', 'SEO'], 'Values': budgets})\n",
    "budget_series.plot(y='Values',labels=budget_series[\"Source\"],kind='pie',figsize=[7,7])\n",
    "plt.legend(loc=\"best\")\n",
    "plt.ylabel(\"\")\n",
    "plt.title(\"Budget\")"
   ]
  },
  {
   "cell_type": "code",
   "execution_count": 19,
   "id": "defined-majority",
   "metadata": {
    "scrolled": true
   },
   "outputs": [
    {
     "data": {
      "text/plain": [
       "Text(0, 0.5, 'price')"
      ]
     },
     "execution_count": 19,
     "metadata": {},
     "output_type": "execute_result"
    },
    {
     "data": {
      "image/png": "[encoded data removed]",
      "text/plain": [
       "<Figure size 432x432 with 1 Axes>"
      ]
     },
     "metadata": {
      "needs_background": "light"
     },
     "output_type": "display_data"
    }
   ],
   "source": [
    "#calculating the pay-per-click ratio for each source\n",
    "ppc = budgets / new.groupby(\"Source\").count().sort_values([\"Time\"], ascending=False)[\"Time\"]\n",
    "ppc.plot(kind='bar',figsize=[6,6])\n",
    "plt.title('Pay per click')\n",
    "plt.xlabel('source')\n",
    "plt.ylabel('price')"
   ]
  },
  {
   "cell_type": "code",
   "execution_count": 20,
   "id": "miniature-syndrome",
   "metadata": {},
   "outputs": [
    {
     "data": {
      "text/html": [
       "<div>\n",
       "<style scoped>\n",
       "    .dataframe tbody tr th:only-of-type {\n",
       "        vertical-align: middle;\n",
       "    }\n",
       "\n",
       "    .dataframe tbody tr th {\n",
       "        vertical-align: top;\n",
       "    }\n",
       "\n",
       "    .dataframe thead th {\n",
       "        text-align: right;\n",
       "    }\n",
       "</style>\n",
       "<table border=\"1\" class=\"dataframe\">\n",
       "  <thead>\n",
       "    <tr style=\"text-align: right;\">\n",
       "      <th></th>\n",
       "      <th></th>\n",
       "      <th>Time</th>\n",
       "      <th>ID</th>\n",
       "      <th>Region</th>\n",
       "    </tr>\n",
       "    <tr>\n",
       "      <th>Country</th>\n",
       "      <th>Source</th>\n",
       "      <th></th>\n",
       "      <th></th>\n",
       "      <th></th>\n",
       "    </tr>\n",
       "  </thead>\n",
       "  <tbody>\n",
       "    <tr>\n",
       "      <th rowspan=\"3\" valign=\"top\">country_1</th>\n",
       "      <th>AdWords</th>\n",
       "      <td>1555</td>\n",
       "      <td>1555</td>\n",
       "      <td>1555</td>\n",
       "    </tr>\n",
       "    <tr>\n",
       "      <th>Reddit</th>\n",
       "      <td>2497</td>\n",
       "      <td>2497</td>\n",
       "      <td>2497</td>\n",
       "    </tr>\n",
       "    <tr>\n",
       "      <th>SEO</th>\n",
       "      <td>1024</td>\n",
       "      <td>1024</td>\n",
       "      <td>1024</td>\n",
       "    </tr>\n",
       "    <tr>\n",
       "      <th rowspan=\"3\" valign=\"top\">country_2</th>\n",
       "      <th>AdWords</th>\n",
       "      <td>15073</td>\n",
       "      <td>15073</td>\n",
       "      <td>15073</td>\n",
       "    </tr>\n",
       "    <tr>\n",
       "      <th>Reddit</th>\n",
       "      <td>25519</td>\n",
       "      <td>25519</td>\n",
       "      <td>25519</td>\n",
       "    </tr>\n",
       "    <tr>\n",
       "      <th>SEO</th>\n",
       "      <td>10083</td>\n",
       "      <td>10083</td>\n",
       "      <td>10083</td>\n",
       "    </tr>\n",
       "    <tr>\n",
       "      <th rowspan=\"3\" valign=\"top\">country_3</th>\n",
       "      <th>AdWords</th>\n",
       "      <td>813</td>\n",
       "      <td>813</td>\n",
       "      <td>813</td>\n",
       "    </tr>\n",
       "    <tr>\n",
       "      <th>Reddit</th>\n",
       "      <td>1364</td>\n",
       "      <td>1364</td>\n",
       "      <td>1364</td>\n",
       "    </tr>\n",
       "    <tr>\n",
       "      <th>SEO</th>\n",
       "      <td>565</td>\n",
       "      <td>565</td>\n",
       "      <td>565</td>\n",
       "    </tr>\n",
       "    <tr>\n",
       "      <th rowspan=\"3\" valign=\"top\">country_4</th>\n",
       "      <th>AdWords</th>\n",
       "      <td>3812</td>\n",
       "      <td>3812</td>\n",
       "      <td>3812</td>\n",
       "    </tr>\n",
       "    <tr>\n",
       "      <th>Reddit</th>\n",
       "      <td>6438</td>\n",
       "      <td>6438</td>\n",
       "      <td>6438</td>\n",
       "    </tr>\n",
       "    <tr>\n",
       "      <th>SEO</th>\n",
       "      <td>2501</td>\n",
       "      <td>2501</td>\n",
       "      <td>2501</td>\n",
       "    </tr>\n",
       "    <tr>\n",
       "      <th rowspan=\"3\" valign=\"top\">country_5</th>\n",
       "      <th>AdWords</th>\n",
       "      <td>12128</td>\n",
       "      <td>12128</td>\n",
       "      <td>12128</td>\n",
       "    </tr>\n",
       "    <tr>\n",
       "      <th>Reddit</th>\n",
       "      <td>20120</td>\n",
       "      <td>20120</td>\n",
       "      <td>20120</td>\n",
       "    </tr>\n",
       "    <tr>\n",
       "      <th>SEO</th>\n",
       "      <td>8101</td>\n",
       "      <td>8101</td>\n",
       "      <td>8101</td>\n",
       "    </tr>\n",
       "    <tr>\n",
       "      <th rowspan=\"3\" valign=\"top\">country_6</th>\n",
       "      <th>AdWords</th>\n",
       "      <td>9303</td>\n",
       "      <td>9303</td>\n",
       "      <td>9303</td>\n",
       "    </tr>\n",
       "    <tr>\n",
       "      <th>Reddit</th>\n",
       "      <td>15643</td>\n",
       "      <td>15643</td>\n",
       "      <td>15643</td>\n",
       "    </tr>\n",
       "    <tr>\n",
       "      <th>SEO</th>\n",
       "      <td>6210</td>\n",
       "      <td>6210</td>\n",
       "      <td>6210</td>\n",
       "    </tr>\n",
       "    <tr>\n",
       "      <th rowspan=\"3\" valign=\"top\">country_7</th>\n",
       "      <th>AdWords</th>\n",
       "      <td>15753</td>\n",
       "      <td>15753</td>\n",
       "      <td>15753</td>\n",
       "    </tr>\n",
       "    <tr>\n",
       "      <th>Reddit</th>\n",
       "      <td>25900</td>\n",
       "      <td>25900</td>\n",
       "      <td>25900</td>\n",
       "    </tr>\n",
       "    <tr>\n",
       "      <th>SEO</th>\n",
       "      <td>10137</td>\n",
       "      <td>10137</td>\n",
       "      <td>10137</td>\n",
       "    </tr>\n",
       "    <tr>\n",
       "      <th rowspan=\"3\" valign=\"top\">country_8</th>\n",
       "      <th>AdWords</th>\n",
       "      <td>4628</td>\n",
       "      <td>4628</td>\n",
       "      <td>4628</td>\n",
       "    </tr>\n",
       "    <tr>\n",
       "      <th>Reddit</th>\n",
       "      <td>7735</td>\n",
       "      <td>7735</td>\n",
       "      <td>7735</td>\n",
       "    </tr>\n",
       "    <tr>\n",
       "      <th>SEO</th>\n",
       "      <td>3120</td>\n",
       "      <td>3120</td>\n",
       "      <td>3120</td>\n",
       "    </tr>\n",
       "  </tbody>\n",
       "</table>\n",
       "</div>"
      ],
      "text/plain": [
       "                    Time     ID  Region\n",
       "Country   Source                       \n",
       "country_1 AdWords   1555   1555    1555\n",
       "          Reddit    2497   2497    2497\n",
       "          SEO       1024   1024    1024\n",
       "country_2 AdWords  15073  15073   15073\n",
       "          Reddit   25519  25519   25519\n",
       "          SEO      10083  10083   10083\n",
       "country_3 AdWords    813    813     813\n",
       "          Reddit    1364   1364    1364\n",
       "          SEO        565    565     565\n",
       "country_4 AdWords   3812   3812    3812\n",
       "          Reddit    6438   6438    6438\n",
       "          SEO       2501   2501    2501\n",
       "country_5 AdWords  12128  12128   12128\n",
       "          Reddit   20120  20120   20120\n",
       "          SEO       8101   8101    8101\n",
       "country_6 AdWords   9303   9303    9303\n",
       "          Reddit   15643  15643   15643\n",
       "          SEO       6210   6210    6210\n",
       "country_7 AdWords  15753  15753   15753\n",
       "          Reddit   25900  25900   25900\n",
       "          SEO      10137  10137   10137\n",
       "country_8 AdWords   4628   4628    4628\n",
       "          Reddit    7735   7735    7735\n",
       "          SEO       3120   3120    3120"
      ]
     },
     "execution_count": 20,
     "metadata": {},
     "output_type": "execute_result"
    }
   ],
   "source": [
    "#counting the sources for each country\n",
    "new.groupby([\"Country\",\"Source\"]).count()"
   ]
  },
  {
   "cell_type": "markdown",
   "id": "worthy-story",
   "metadata": {},
   "source": [
    "The most visitors come to the blog from Reddit, but this source has a budget of 250USD. Less people com from the AdWords source, but this source has a bigger budget. I think Dylan should rethink how much he spends on each source. The pay-per-click ratio is 3 times bigger at Adwords than at Reddit. Reddit also has the most clicks in each country."
   ]
  },
  {
   "cell_type": "markdown",
   "id": "lyric-commissioner",
   "metadata": {},
   "source": [
    "## 3. Can you see any more interesting information (beyond the above 2 questions) in the data from which Dilan could profit?"
   ]
  },
  {
   "cell_type": "code",
   "execution_count": 21,
   "id": "resistant-identification",
   "metadata": {},
   "outputs": [
    {
     "name": "stderr",
     "output_type": "stream",
     "text": [
      "/usr/local/lib/python3.6/dist-packages/ipykernel_launcher.py:3: SettingWithCopyWarning: \n",
      "A value is trying to be set on a copy of a slice from a DataFrame.\n",
      "Try using .loc[row_indexer,col_indexer] = value instead\n",
      "\n",
      "See the caveats in the documentation: https://pandas.pydata.org/pandas-docs/stable/user_guide/indexing.html#returning-a-view-versus-a-copy\n",
      "  This is separate from the ipykernel package so we can avoid doing imports until\n"
     ]
    },
    {
     "data": {
      "text/plain": [
       "Text(0, 0.5, 'Total')"
      ]
     },
     "execution_count": 21,
     "metadata": {},
     "output_type": "execute_result"
    },
    {
     "data": {
      "image/png": "[encoded data removed]",
      "text/plain": [
       "<Figure size 864x432 with 1 Axes>"
      ]
     },
     "metadata": {
      "needs_background": "light"
     },
     "output_type": "display_data"
    }
   ],
   "source": [
    "#plotting the total number of newcommers in country 5 by hour\n",
    "country_5 = new[(new[\"Country\"] == 'country_5')]\n",
    "country_5[\"Hour\"] = pd.to_numeric(country_5[\"Time\"].str.split(\" \").str[1].str.split(\":\").str[0])\n",
    "hours = country_5.groupby(\"Hour\").count()\n",
    "hours.plot(y=\"Time\", kind='bar', figsize=[12,6])\n",
    "plt.title('New visitors by hour')\n",
    "plt.xlabel('Hour')\n",
    "plt.ylabel('Total')"
   ]
  },
  {
   "cell_type": "code",
   "execution_count": 22,
   "id": "ignored-nothing",
   "metadata": {},
   "outputs": [
    {
     "name": "stderr",
     "output_type": "stream",
     "text": [
      "/usr/local/lib/python3.6/dist-packages/ipykernel_launcher.py:3: SettingWithCopyWarning: \n",
      "A value is trying to be set on a copy of a slice from a DataFrame.\n",
      "Try using .loc[row_indexer,col_indexer] = value instead\n",
      "\n",
      "See the caveats in the documentation: https://pandas.pydata.org/pandas-docs/stable/user_guide/indexing.html#returning-a-view-versus-a-copy\n",
      "  This is separate from the ipykernel package so we can avoid doing imports until\n"
     ]
    },
    {
     "data": {
      "text/plain": [
       "Text(0, 0.5, 'Total')"
      ]
     },
     "execution_count": 22,
     "metadata": {},
     "output_type": "execute_result"
    },
    {
     "data": {
      "image/png": "[encoded data removed]",
      "text/plain": [
       "<Figure size 864x432 with 1 Axes>"
      ]
     },
     "metadata": {
      "needs_background": "light"
     },
     "output_type": "display_data"
    }
   ],
   "source": [
    "#plotting the total number of newcommers in country 5 by hour\n",
    "country_5 = rec[(rec[\"Country\"] == 'country_5')]\n",
    "country_5[\"Hour\"] = pd.to_numeric(country_5[\"Time\"].str.split(\" \").str[1].str.split(\":\").str[0])\n",
    "hours = country_5.groupby(\"Hour\").count()\n",
    "hours.plot(y=\"Time\", kind='bar',figsize=[12,6])\n",
    "hours.to_csv(\"recurring_by_hour.csv\")\n",
    "plt.title('Recurring visitors by hour')\n",
    "plt.xlabel('Hour')\n",
    "plt.ylabel('Total')"
   ]
  },
  {
   "cell_type": "markdown",
   "id": "fluid-hearts",
   "metadata": {},
   "source": [
    "A felső 2 grafikonon az oldal látogatottsága látható, órárkra lebontva. Az először az oldalra látogató embereknél nincs nagy eltérés, de az olvasók közt a reggeli és délelőtti órákban érdemesebb reklámozni (reggel 3 és 11 között), ugyanis ekkor érkezik a legtöbb látogató.\n",
    "The 2 charts above represent the total number of visitors on the blog by hour. There is no big difference between particular hours, but at recurring readers the most frequent hours are between 3 and 11 in the morning. I think Dylan should advertise more frequently in this timeframe (3 to 11). "
   ]
  },
  {
   "cell_type": "code",
   "execution_count": 23,
   "id": "comic-summer",
   "metadata": {},
   "outputs": [
    {
     "data": {
      "text/plain": [
       "Text(0, 0.5, 'Total')"
      ]
     },
     "execution_count": 23,
     "metadata": {},
     "output_type": "execute_result"
    },
    {
     "data": {
      "image/png": "[encoded data removed]",
      "text/plain": [
       "<Figure size 432x288 with 1 Axes>"
      ]
     },
     "metadata": {
      "needs_background": "light"
     },
     "output_type": "display_data"
    }
   ],
   "source": [
    "#plotting the most popular topics for newcommers in country_5\n",
    "country_5 = new[(new[\"Country\"] == 'country_5')]\n",
    "regions = country_5.groupby(\"Region\").count()\n",
    "regions.plot(y=\"Time\", kind='bar')\n",
    "regions.to_csv(\"top_regions_in_country5.csv\")\n",
    "plt.title('Most popular topics in country_5 for new visitors')\n",
    "plt.xlabel('Region')\n",
    "plt.ylabel('Total')"
   ]
  },
  {
   "cell_type": "code",
   "execution_count": 24,
   "id": "destroyed-generator",
   "metadata": {},
   "outputs": [
    {
     "data": {
      "text/plain": [
       "Text(0, 0.5, 'Total')"
      ]
     },
     "execution_count": 24,
     "metadata": {},
     "output_type": "execute_result"
    },
    {
     "data": {
      "image/png": "[encoded data removed]",
      "text/plain": [
       "<Figure size 432x288 with 1 Axes>"
      ]
     },
     "metadata": {
      "needs_background": "light"
     },
     "output_type": "display_data"
    }
   ],
   "source": [
    "#plotting the most popular topics for recurring readers in country_5\n",
    "country_5 = rec[(rec[\"Country\"] == 'country_5')]\n",
    "regions = country_5.groupby(\"Region\").count()\n",
    "regions.plot(y=\"Time\", kind='bar')\n",
    "regions.to_csv(\"top_regions_in_country5.csv\")\n",
    "plt.title('Most popular topics in country_5 for returning visitors')\n",
    "plt.xlabel('Region')\n",
    "plt.ylabel('Total')"
   ]
  },
  {
   "cell_type": "markdown",
   "id": "furnished-carter",
   "metadata": {},
   "source": [
    "The most popular topics in country_5 are Asia, North America and Europe. Dylan should create content regarding these topics and he should include them in his advertisements, too."
   ]
  },
  {
   "cell_type": "code",
   "execution_count": 25,
   "id": "proof-survivor",
   "metadata": {},
   "outputs": [
    {
     "name": "stderr",
     "output_type": "stream",
     "text": [
      "/usr/local/lib/python3.6/dist-packages/ipykernel_launcher.py:3: SettingWithCopyWarning: \n",
      "A value is trying to be set on a copy of a slice from a DataFrame.\n",
      "Try using .loc[row_indexer,col_indexer] = value instead\n",
      "\n",
      "See the caveats in the documentation: https://pandas.pydata.org/pandas-docs/stable/user_guide/indexing.html#returning-a-view-versus-a-copy\n",
      "  This is separate from the ipykernel package so we can avoid doing imports until\n"
     ]
    },
    {
     "data": {
      "text/html": [
       "<div>\n",
       "<style scoped>\n",
       "    .dataframe tbody tr th:only-of-type {\n",
       "        vertical-align: middle;\n",
       "    }\n",
       "\n",
       "    .dataframe tbody tr th {\n",
       "        vertical-align: top;\n",
       "    }\n",
       "\n",
       "    .dataframe thead th {\n",
       "        text-align: right;\n",
       "    }\n",
       "</style>\n",
       "<table border=\"1\" class=\"dataframe\">\n",
       "  <thead>\n",
       "    <tr style=\"text-align: right;\">\n",
       "      <th></th>\n",
       "      <th>Time</th>\n",
       "      <th>Country</th>\n",
       "      <th>ID</th>\n",
       "      <th>Source</th>\n",
       "      <th>Region</th>\n",
       "    </tr>\n",
       "    <tr>\n",
       "      <th>Day</th>\n",
       "      <th></th>\n",
       "      <th></th>\n",
       "      <th></th>\n",
       "      <th></th>\n",
       "      <th></th>\n",
       "    </tr>\n",
       "  </thead>\n",
       "  <tbody>\n",
       "    <tr>\n",
       "      <th>Tuesday</th>\n",
       "      <td>6287</td>\n",
       "      <td>6287</td>\n",
       "      <td>6287</td>\n",
       "      <td>6287</td>\n",
       "      <td>6287</td>\n",
       "    </tr>\n",
       "    <tr>\n",
       "      <th>Friday</th>\n",
       "      <td>6110</td>\n",
       "      <td>6110</td>\n",
       "      <td>6110</td>\n",
       "      <td>6110</td>\n",
       "      <td>6110</td>\n",
       "    </tr>\n",
       "    <tr>\n",
       "      <th>Monday</th>\n",
       "      <td>5899</td>\n",
       "      <td>5899</td>\n",
       "      <td>5899</td>\n",
       "      <td>5899</td>\n",
       "      <td>5899</td>\n",
       "    </tr>\n",
       "    <tr>\n",
       "      <th>Wednesday</th>\n",
       "      <td>5810</td>\n",
       "      <td>5810</td>\n",
       "      <td>5810</td>\n",
       "      <td>5810</td>\n",
       "      <td>5810</td>\n",
       "    </tr>\n",
       "    <tr>\n",
       "      <th>Thursday</th>\n",
       "      <td>5509</td>\n",
       "      <td>5509</td>\n",
       "      <td>5509</td>\n",
       "      <td>5509</td>\n",
       "      <td>5509</td>\n",
       "    </tr>\n",
       "    <tr>\n",
       "      <th>Sunday</th>\n",
       "      <td>5380</td>\n",
       "      <td>5380</td>\n",
       "      <td>5380</td>\n",
       "      <td>5380</td>\n",
       "      <td>5380</td>\n",
       "    </tr>\n",
       "    <tr>\n",
       "      <th>Saturday</th>\n",
       "      <td>5354</td>\n",
       "      <td>5354</td>\n",
       "      <td>5354</td>\n",
       "      <td>5354</td>\n",
       "      <td>5354</td>\n",
       "    </tr>\n",
       "  </tbody>\n",
       "</table>\n",
       "</div>"
      ],
      "text/plain": [
       "           Time  Country    ID  Source  Region\n",
       "Day                                           \n",
       "Tuesday    6287     6287  6287    6287    6287\n",
       "Friday     6110     6110  6110    6110    6110\n",
       "Monday     5899     5899  5899    5899    5899\n",
       "Wednesday  5810     5810  5810    5810    5810\n",
       "Thursday   5509     5509  5509    5509    5509\n",
       "Sunday     5380     5380  5380    5380    5380\n",
       "Saturday   5354     5354  5354    5354    5354"
      ]
     },
     "execution_count": 25,
     "metadata": {},
     "output_type": "execute_result"
    }
   ],
   "source": [
    "#counting newcommers by day in country_5\n",
    "country_5 = new[(new[\"Country\"] == 'country_5')]\n",
    "country_5['Day'] = pd.to_datetime(country_5['Time'], format=\"%Y-%m-%d %H:%M:%S\").dt.day_name()\n",
    "days = country_5.groupby(\"Day\").count().sort_values(\"Time\", ascending=False)\n",
    "days"
   ]
  },
  {
   "cell_type": "markdown",
   "id": "grave-forge",
   "metadata": {},
   "source": [
    "The most newcommers visit the blog on Tuesday, Friday and Monday"
   ]
  },
  {
   "cell_type": "code",
   "execution_count": 26,
   "id": "common-cooperative",
   "metadata": {},
   "outputs": [
    {
     "name": "stderr",
     "output_type": "stream",
     "text": [
      "/usr/local/lib/python3.6/dist-packages/ipykernel_launcher.py:3: SettingWithCopyWarning: \n",
      "A value is trying to be set on a copy of a slice from a DataFrame.\n",
      "Try using .loc[row_indexer,col_indexer] = value instead\n",
      "\n",
      "See the caveats in the documentation: https://pandas.pydata.org/pandas-docs/stable/user_guide/indexing.html#returning-a-view-versus-a-copy\n",
      "  This is separate from the ipykernel package so we can avoid doing imports until\n"
     ]
    },
    {
     "data": {
      "text/html": [
       "<div>\n",
       "<style scoped>\n",
       "    .dataframe tbody tr th:only-of-type {\n",
       "        vertical-align: middle;\n",
       "    }\n",
       "\n",
       "    .dataframe tbody tr th {\n",
       "        vertical-align: top;\n",
       "    }\n",
       "\n",
       "    .dataframe thead th {\n",
       "        text-align: right;\n",
       "    }\n",
       "</style>\n",
       "<table border=\"1\" class=\"dataframe\">\n",
       "  <thead>\n",
       "    <tr style=\"text-align: right;\">\n",
       "      <th></th>\n",
       "      <th>Time</th>\n",
       "      <th>Country</th>\n",
       "      <th>ID</th>\n",
       "      <th>Region</th>\n",
       "    </tr>\n",
       "    <tr>\n",
       "      <th>Day</th>\n",
       "      <th></th>\n",
       "      <th></th>\n",
       "      <th></th>\n",
       "      <th></th>\n",
       "    </tr>\n",
       "  </thead>\n",
       "  <tbody>\n",
       "    <tr>\n",
       "      <th>Thursday</th>\n",
       "      <td>17363</td>\n",
       "      <td>17363</td>\n",
       "      <td>17363</td>\n",
       "      <td>17363</td>\n",
       "    </tr>\n",
       "    <tr>\n",
       "      <th>Friday</th>\n",
       "      <td>16561</td>\n",
       "      <td>16561</td>\n",
       "      <td>16561</td>\n",
       "      <td>16561</td>\n",
       "    </tr>\n",
       "    <tr>\n",
       "      <th>Tuesday</th>\n",
       "      <td>15696</td>\n",
       "      <td>15696</td>\n",
       "      <td>15696</td>\n",
       "      <td>15696</td>\n",
       "    </tr>\n",
       "    <tr>\n",
       "      <th>Saturday</th>\n",
       "      <td>15648</td>\n",
       "      <td>15648</td>\n",
       "      <td>15648</td>\n",
       "      <td>15648</td>\n",
       "    </tr>\n",
       "    <tr>\n",
       "      <th>Wednesday</th>\n",
       "      <td>15212</td>\n",
       "      <td>15212</td>\n",
       "      <td>15212</td>\n",
       "      <td>15212</td>\n",
       "    </tr>\n",
       "    <tr>\n",
       "      <th>Sunday</th>\n",
       "      <td>15037</td>\n",
       "      <td>15037</td>\n",
       "      <td>15037</td>\n",
       "      <td>15037</td>\n",
       "    </tr>\n",
       "    <tr>\n",
       "      <th>Monday</th>\n",
       "      <td>13865</td>\n",
       "      <td>13865</td>\n",
       "      <td>13865</td>\n",
       "      <td>13865</td>\n",
       "    </tr>\n",
       "  </tbody>\n",
       "</table>\n",
       "</div>"
      ],
      "text/plain": [
       "            Time  Country     ID  Region\n",
       "Day                                     \n",
       "Thursday   17363    17363  17363   17363\n",
       "Friday     16561    16561  16561   16561\n",
       "Tuesday    15696    15696  15696   15696\n",
       "Saturday   15648    15648  15648   15648\n",
       "Wednesday  15212    15212  15212   15212\n",
       "Sunday     15037    15037  15037   15037\n",
       "Monday     13865    13865  13865   13865"
      ]
     },
     "execution_count": 26,
     "metadata": {},
     "output_type": "execute_result"
    }
   ],
   "source": [
    "#counting recurring visitors by day in country_5\n",
    "country_5 = rec[(rec[\"Country\"] == 'country_5')]\n",
    "country_5['Day'] = pd.to_datetime(country_5['Time'], format=\"%Y-%m-%d %H:%M:%S\").dt.day_name()\n",
    "days = country_5.groupby(\"Day\").count().sort_values(\"Time\", ascending=False)\n",
    "days"
   ]
  },
  {
   "cell_type": "markdown",
   "id": "superior-skating",
   "metadata": {},
   "source": [
    "The most recurring readers visit the blog on Thursday, Friday and Tuesday "
   ]
  },
  {
   "cell_type": "code",
   "execution_count": 27,
   "id": "residential-individual",
   "metadata": {},
   "outputs": [
    {
     "data": {
      "text/plain": [
       "Text(0, 0.5, 'Total')"
      ]
     },
     "execution_count": 27,
     "metadata": {},
     "output_type": "execute_result"
    },
    {
     "data": {
      "image/png": "[encoded data removed]",
      "text/plain": [
       "<Figure size 864x432 with 1 Axes>"
      ]
     },
     "metadata": {
      "needs_background": "light"
     },
     "output_type": "display_data"
    }
   ],
   "source": [
    "#plotting the total number of newcommers by hour\n",
    "all_countries = new.copy()\n",
    "all_countries[\"Hour\"] = pd.to_numeric(all_countries[\"Time\"].str.split(\" \").str[1].str.split(\":\").str[0])\n",
    "hours = all_countries.groupby(\"Hour\").count()\n",
    "hours.plot(y=\"Time\", kind='bar',figsize=[12,6])\n",
    "plt.title('New visitors by hour')\n",
    "plt.xlabel('Hour')\n",
    "plt.ylabel('Total')"
   ]
  },
  {
   "cell_type": "code",
   "execution_count": 28,
   "id": "computational-recipe",
   "metadata": {},
   "outputs": [
    {
     "data": {
      "text/plain": [
       "Text(0, 0.5, 'Total')"
      ]
     },
     "execution_count": 28,
     "metadata": {},
     "output_type": "execute_result"
    },
    {
     "data": {
      "image/png": "[encoded data removed]",
      "text/plain": [
       "<Figure size 864x432 with 1 Axes>"
      ]
     },
     "metadata": {
      "needs_background": "light"
     },
     "output_type": "display_data"
    }
   ],
   "source": [
    "#plotting the total number of recurring visitors by hour\n",
    "all_countries = rec.copy()\n",
    "all_countries[\"Hour\"] = pd.to_numeric(all_countries[\"Time\"].str.split(\" \").str[1].str.split(\":\").str[0])\n",
    "hours = all_countries.groupby(\"Hour\").count()\n",
    "hours.plot(y=\"Time\", kind='bar',figsize=[12,6])\n",
    "plt.title('Returning visitors by hour')\n",
    "plt.xlabel('Hour')\n",
    "plt.ylabel('Total')"
   ]
  },
  {
   "cell_type": "markdown",
   "id": "qualified-agreement",
   "metadata": {},
   "source": [
    "A reggeli órákban (3 és 11 között) olvassák a legtöbben a weboldalt. Az először látogatóknál egyenletesen oszlik el nap közben.\n",
    "The most people read the blog in the morning, between 3 and 11'o clock. There is no siginficant difference between particular hours at newcommers."
   ]
  },
  {
   "cell_type": "code",
   "execution_count": 29,
   "id": "demonstrated-carter",
   "metadata": {},
   "outputs": [
    {
     "data": {
      "text/plain": [
       "Text(0, 0.5, 'Total')"
      ]
     },
     "execution_count": 29,
     "metadata": {},
     "output_type": "execute_result"
    },
    {
     "data": {
      "image/png": "[encoded data removed]",
      "text/plain": [
       "<Figure size 432x432 with 1 Axes>"
      ]
     },
     "metadata": {
      "needs_background": "light"
     },
     "output_type": "display_data"
    }
   ],
   "source": [
    "#plotting the total number of newcommers by day\n",
    "all_countries = new.copy()\n",
    "all_countries['Day'] = pd.to_datetime(all_countries['Time'], format=\"%Y-%m-%d %H:%M:%S\").dt.day_name()\n",
    "days = all_countries.groupby(\"Day\").count().sort_values(\"Time\", ascending=False)\n",
    "days.plot(y='Time',kind='bar',figsize=[6,6])\n",
    "plt.title('New visitors by day')\n",
    "plt.xlabel('Day')\n",
    "plt.ylabel('Total')"
   ]
  },
  {
   "cell_type": "code",
   "execution_count": 30,
   "id": "sharp-bennett",
   "metadata": {},
   "outputs": [
    {
     "data": {
      "text/plain": [
       "Text(0, 0.5, 'Total')"
      ]
     },
     "execution_count": 30,
     "metadata": {},
     "output_type": "execute_result"
    },
    {
     "data": {
      "image/png": "[encoded data removed]",
      "text/plain": [
       "<Figure size 432x432 with 1 Axes>"
      ]
     },
     "metadata": {
      "needs_background": "light"
     },
     "output_type": "display_data"
    }
   ],
   "source": [
    "#plotting the total number of recurring visitors by day\n",
    "all_countries = rec.copy()\n",
    "all_countries['Day'] = pd.to_datetime(all_countries['Time'], format=\"%Y-%m-%d %H:%M:%S\").dt.day_name()\n",
    "days = all_countries.groupby(\"Day\").count().sort_values(\"Time\", ascending=False)\n",
    "days.plot(y='Time',kind='bar',figsize=[6,6])\n",
    "plt.title('Returing visitors by day')\n",
    "plt.xlabel('Day')\n",
    "plt.ylabel('Total')"
   ]
  },
  {
   "cell_type": "markdown",
   "id": "marine-lightweight",
   "metadata": {},
   "source": [
    "The most recurring readers visit the blog on Thursday, Friday and Saturday."
   ]
  }
 ],
 "metadata": {
  "kernelspec": {
   "display_name": "Python 3",
   "language": "python",
   "name": "python3"
  },
  "language_info": {
   "codemirror_mode": {
    "name": "ipython",
    "version": 3
   },
   "file_extension": ".py",
   "mimetype": "text/x-python",
   "name": "python",
   "nbconvert_exporter": "python",
   "pygments_lexer": "ipython3",
   "version": "3.6.9"
  }
 },
 "nbformat": 4,
 "nbformat_minor": 5
}
